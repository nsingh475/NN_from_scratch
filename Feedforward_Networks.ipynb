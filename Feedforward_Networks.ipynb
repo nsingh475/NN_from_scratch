{
 "cells": [
  {
   "cell_type": "code",
   "execution_count": 1,
   "id": "8f697b59",
   "metadata": {},
   "outputs": [],
   "source": [
    "import re \n",
    "import numpy as np\n",
    "import matplotlib.pyplot as plt"
   ]
  },
  {
   "cell_type": "markdown",
   "id": "15dbc69c",
   "metadata": {},
   "source": [
    "## Train and Test data"
   ]
  },
  {
   "cell_type": "code",
   "execution_count": 2,
   "id": "ee7880ce",
   "metadata": {},
   "outputs": [],
   "source": [
    "test_text = '''where are you?\n",
    "is she in mexico?\n",
    "i am in greece.\n",
    "she is in mexico.\n",
    "is she in england?\n",
    "'''"
   ]
  },
  {
   "cell_type": "code",
   "execution_count": 3,
   "id": "b5018d1b",
   "metadata": {},
   "outputs": [],
   "source": [
    "train_text = '''are you still here?\n",
    "where are you?\n",
    "he is in mexico.\n",
    "are you tired?\n",
    "i am tired.\n",
    "are you in england?\n",
    "were you in mexico?\n",
    "is he in greece?\n",
    "were you in england?\n",
    "are you in mexico?\n",
    "i am in mexico.\n",
    "are you still in mexico? \n",
    "are you in greece again?\n",
    "she is in england.\n",
    "he is tired.\n",
    "'''"
   ]
  },
  {
   "cell_type": "markdown",
   "id": "92b3e908",
   "metadata": {},
   "source": [
    "## 1. Preprocessing Data"
   ]
  },
  {
   "cell_type": "code",
   "execution_count": 4,
   "id": "9e65de7a",
   "metadata": {},
   "outputs": [],
   "source": [
    "def tokenise(s):\n",
    "    return [i for i in re.sub('([.?])', ' \\g<1>', s).strip().split(' ') if i]"
   ]
  },
  {
   "cell_type": "code",
   "execution_count": 5,
   "id": "c9c971cf",
   "metadata": {},
   "outputs": [],
   "source": [
    "def one_hot(y, classes):\n",
    "    onehot = np.zeros((len(y), classes)) \n",
    "    for i, v in enumerate(y):\n",
    "        onehot[i][v] = 1\n",
    "    return onehot"
   ]
  },
  {
   "cell_type": "code",
   "execution_count": 6,
   "id": "35baa604",
   "metadata": {},
   "outputs": [
    {
     "name": "stdout",
     "output_type": "stream",
     "text": [
      "22\n"
     ]
    }
   ],
   "source": [
    "vocab = list(set([token for token in re.sub('([.?])', ' \\g<1>', train_text)\n",
    "             .replace(' ', '\\n').strip().split('\\n') if token]))\n",
    "vocab += ['<BOS>', '<EOS>', '<PAD>']\n",
    "vocab.sort()\n",
    "\n",
    "print(len(vocab))"
   ]
  },
  {
   "cell_type": "code",
   "execution_count": 7,
   "id": "b2aa7b5d",
   "metadata": {},
   "outputs": [
    {
     "name": "stdout",
     "output_type": "stream",
     "text": [
      "22\n",
      "22\n"
     ]
    }
   ],
   "source": [
    "word2idx = {word: idx for idx, word in enumerate(vocab)}\n",
    "idx2word = {idx: word for word, idx in word2idx.items()}\n",
    "\n",
    "print(len(word2idx))\n",
    "print(len(idx2word))"
   ]
  },
  {
   "cell_type": "code",
   "execution_count": 8,
   "id": "bb2cc6a7",
   "metadata": {},
   "outputs": [
    {
     "name": "stdout",
     "output_type": "stream",
     "text": [
      "7\n"
     ]
    }
   ],
   "source": [
    "pad = max([len(tokenise(i)) for i in train_text.split('\\n')]) + 1\n",
    "print(pad)"
   ]
  },
  {
   "cell_type": "code",
   "execution_count": 9,
   "id": "1a301054",
   "metadata": {},
   "outputs": [
    {
     "name": "stdout",
     "output_type": "stream",
     "text": [
      "{'.': 0, '<BOS>': 1, '<EOS>': 2, '<PAD>': 3, '?': 4, 'again': 5, 'am': 6, 'are': 7, 'england': 8, 'greece': 9, 'he': 10, 'here': 11, 'i': 12, 'in': 13, 'is': 14, 'mexico': 15, 'she': 16, 'still': 17, 'tired': 18, 'were': 19, 'where': 20, 'you': 21}\n"
     ]
    }
   ],
   "source": [
    "print(word2idx)"
   ]
  },
  {
   "cell_type": "code",
   "execution_count": 10,
   "id": "a914ad97",
   "metadata": {},
   "outputs": [],
   "source": [
    "train_sentences = []\n",
    "for line in train_text.strip().split('\\n'):\n",
    "        tokens = tokenise(line)\n",
    "        padded = ['<BOS>'] + tokens + ['<EOS>'] + ['<PAD>'] * (pad - len(tokens))\n",
    "        train_sentences.append([word2idx[token] for token in padded])"
   ]
  },
  {
   "cell_type": "code",
   "execution_count": 11,
   "id": "27dd8fa1",
   "metadata": {},
   "outputs": [
    {
     "data": {
      "text/plain": [
       "[1, 20, 7, 21, 4, 2, 3, 3, 3]"
      ]
     },
     "execution_count": 11,
     "metadata": {},
     "output_type": "execute_result"
    }
   ],
   "source": [
    "train_sentences[1]"
   ]
  },
  {
   "cell_type": "code",
   "execution_count": 12,
   "id": "9b69b3a3",
   "metadata": {},
   "outputs": [
    {
     "name": "stdout",
     "output_type": "stream",
     "text": [
      "[7, 21] 17\n"
     ]
    }
   ],
   "source": [
    "X = []\n",
    "y = []\n",
    "\n",
    "for sentence in train_sentences:\n",
    "    for i in range(pad - 2):\n",
    "            X.append([sentence[i], sentence[i+1]])\n",
    "            y.append(sentence[i+2])\n",
    "            \n",
    "            \n",
    "print(X[1], y[1])"
   ]
  },
  {
   "cell_type": "code",
   "execution_count": 13,
   "id": "ca63efd8",
   "metadata": {},
   "outputs": [
    {
     "name": "stdout",
     "output_type": "stream",
     "text": [
      "[0. 0. 0. 0. 0. 0. 0. 0. 0. 0. 0. 0. 0. 0. 0. 0. 0. 1. 0. 0. 0. 0.]\n"
     ]
    }
   ],
   "source": [
    "X = np.array(X)\n",
    "Y = np.array(y)\n",
    "Yo = one_hot(Y, len(vocab))\n",
    "\n",
    "print(Yo[1])"
   ]
  },
  {
   "cell_type": "code",
   "execution_count": 14,
   "id": "e3ef9330",
   "metadata": {},
   "outputs": [
    {
     "name": "stdout",
     "output_type": "stream",
     "text": [
      "(75, 2)\n",
      "(75,)\n",
      "(75, 22)\n"
     ]
    }
   ],
   "source": [
    "print(X.shape)\n",
    "print(Y.shape)\n",
    "print(Yo.shape)"
   ]
  },
  {
   "cell_type": "markdown",
   "id": "7a5af355",
   "metadata": {},
   "source": [
    "## 2. Defining the model architecture"
   ]
  },
  {
   "cell_type": "code",
   "execution_count": 15,
   "id": "ae04c767",
   "metadata": {},
   "outputs": [],
   "source": [
    "# architecture of the neural network\n",
    "input_size = 2\n",
    "hidden_size = 6\n",
    "output_size = 22 # len of vocab = 22"
   ]
  },
  {
   "cell_type": "code",
   "execution_count": 16,
   "id": "204a94b9",
   "metadata": {},
   "outputs": [],
   "source": [
    "np.random.seed = 5"
   ]
  },
  {
   "cell_type": "code",
   "execution_count": 17,
   "id": "9043169d",
   "metadata": {},
   "outputs": [],
   "source": [
    "# Initialize weights and biases for the hidden and output layers\n",
    "def initialize_weights(input_size, hidden_size, output_size):\n",
    "    W1 = np.random.randn(input_size, hidden_size) # (2, 6)\n",
    "    b1 = np.zeros((1, hidden_size)) # (1,6)\n",
    "    W2 = np.random.randn(hidden_size, output_size) # (6, 22)\n",
    "    b2 = np.zeros((1, output_size)) # (1, 22)\n",
    "    \n",
    "    return W1, b1, W2, b2 "
   ]
  },
  {
   "cell_type": "markdown",
   "id": "3a1af550",
   "metadata": {},
   "source": [
    " ## 3. Forward propagation"
   ]
  },
  {
   "cell_type": "markdown",
   "id": "6049c82f",
   "metadata": {},
   "source": [
    "### a. Defining the activation functions"
   ]
  },
  {
   "cell_type": "code",
   "execution_count": 18,
   "id": "a53361c5",
   "metadata": {},
   "outputs": [],
   "source": [
    "def relu(x):\n",
    "    return np.maximum(0, x)"
   ]
  },
  {
   "cell_type": "code",
   "execution_count": 19,
   "id": "238d5e85",
   "metadata": {},
   "outputs": [],
   "source": [
    "# def softmax(x):\n",
    "#     exp_x = np.exp(x)\n",
    "#     return exp_x / np.sum(exp_x, axis=1, keepdims=True)\n",
    "\n",
    "\n",
    "## Numerically stable softmax\n",
    "def softmax(x):\n",
    "    # Subtract the maximum value from each element for numerical stability\n",
    "    exp_x = np.exp(x - np.max(x, axis=1, keepdims=True))\n",
    "    return exp_x / np.sum(exp_x, axis=1, keepdims=True)\n"
   ]
  },
  {
   "cell_type": "code",
   "execution_count": 20,
   "id": "4a71d2f7",
   "metadata": {},
   "outputs": [],
   "source": [
    "def sigmoid(x):\n",
    "    return 1 / (1 + np.exp(-x))"
   ]
  },
  {
   "cell_type": "markdown",
   "id": "2d5619d8",
   "metadata": {},
   "source": [
    "### b. Forward pass"
   ]
  },
  {
   "cell_type": "code",
   "execution_count": 21,
   "id": "7644ed5e",
   "metadata": {},
   "outputs": [],
   "source": [
    "def forward_pass(W1, b1, W2, b2, X):\n",
    "    Z1 = np.dot(X, W1) + b1\n",
    "    A1 = sigmoid(Z1)\n",
    "#     A1 = relu(Z1)\n",
    "    A1 = relu(Z1)\n",
    "    Z2 = np.dot(A1, W2) + b2\n",
    "    A2 = softmax(Z2)\n",
    "    return Z1, A1, Z2, A2"
   ]
  },
  {
   "cell_type": "markdown",
   "id": "1450644a",
   "metadata": {},
   "source": [
    "## 4. Backward propagation"
   ]
  },
  {
   "cell_type": "markdown",
   "id": "a01a3ffa",
   "metadata": {},
   "source": [
    "### a. Defining loss function"
   ]
  },
  {
   "cell_type": "code",
   "execution_count": 22,
   "id": "145cfd67",
   "metadata": {},
   "outputs": [],
   "source": [
    "# cross-entropy loss function\n",
    "def cost_fucntion(Y_pred, Y_true):\n",
    "    return -np.sum(Y_true * np.log(Y_pred))"
   ]
  },
  {
   "cell_type": "markdown",
   "id": "0af33f25",
   "metadata": {},
   "source": [
    "### b. Defining accuracy"
   ]
  },
  {
   "cell_type": "code",
   "execution_count": 23,
   "id": "93024137",
   "metadata": {},
   "outputs": [],
   "source": [
    "def accuracy(Y_pred, Y_true):\n",
    "    # Convert the one-hot encoded labels back to integers\n",
    "    Y_true = np.argmax(Y_true, axis=1)\n",
    "\n",
    "    # Convert the predicted probabilities to integers\n",
    "    Y_pred = np.argmax(Y_pred, axis=1)\n",
    "\n",
    "    # Calculate the accuracy as the fraction of correctly classified examples\n",
    "    acc = np.mean(Y_pred == Y_true)\n",
    "\n",
    "    return acc"
   ]
  },
  {
   "cell_type": "markdown",
   "id": "e70efb95",
   "metadata": {},
   "source": [
    "### c. Defining backward pass"
   ]
  },
  {
   "cell_type": "code",
   "execution_count": 24,
   "id": "a3060688",
   "metadata": {},
   "outputs": [],
   "source": [
    "def backward_pass_with_relu(Y_pred, Y_true, X, Z1, A1, W2):\n",
    "    dZ2 = Y_pred - Y_true       # dL/dZ2 = y_pred - y_true  # derivative of softmax\n",
    "    dW2 = np.dot(A1.T, dZ2)     # dL/dW2 = dL/dZ2 * dZ2/dW2 and  dZ2/dW2 = A1\n",
    "    db2 = np.sum(dZ2, axis=0, keepdims=True)     # dL/db2 = dL/dZ2 * dZ2/db2 and  dZ2/db2 = 1\n",
    "    dA1 = np.dot(dZ2, W2.T)      # dL/dA1 = dL/dZ2 * dZ2/dA1 and dZ2/dA1 = W2\n",
    "    dZ1 = dA1 * (Z1 > 0)         # dL/dZ1 = dL/dA1 * dA1/dZ1 and dA1/dZ1 = 0 if z1 is 0 else 1 if z1 >=0  ## derivative of relu\n",
    "    dW1 = np.dot(X.T, dZ1)       # dL/dW1 = dL/dZ1 * dZ1/dW1 and  dZ1/dW1 = X\n",
    "    db1 = np.sum(dZ1, axis=0, keepdims=True)    # dL/db1 = dL/dZ1 * dZ1/db1 and  dZ1/db1 = 1\n",
    "    \n",
    "    return dW1, db1, dW2, db2"
   ]
  },
  {
   "cell_type": "code",
   "execution_count": 25,
   "id": "4d960c93",
   "metadata": {},
   "outputs": [],
   "source": [
    "def backward_pass(Y_pred, Y_true, X, Z1, A1, W2):\n",
    "    dZ2 = Y_pred - Y_true\n",
    "    dW2 = np.dot(sigmoid(Z1).T, dZ2)  # dZ2/dW2 = A1\n",
    "    db2 = np.sum(dZ2, axis=0, keepdims=True)\n",
    "    dA1 = np.dot(dZ2, W2.T)\n",
    "    dZ1 = dA1 * sigmoid(Z1) * (1 - sigmoid(Z1)) ## derivative of sigmoid = sig * (1-sig)\n",
    "    dW1 = np.dot(X.T, dZ1)\n",
    "    db1 = np.sum(dZ1, axis=0, keepdims=True)\n",
    "    \n",
    "    return dW1, db1, dW2, db2"
   ]
  },
  {
   "cell_type": "markdown",
   "id": "59bd11a7",
   "metadata": {},
   "source": [
    "### a. Updating weights and biases"
   ]
  },
  {
   "cell_type": "code",
   "execution_count": 26,
   "id": "201be201",
   "metadata": {},
   "outputs": [],
   "source": [
    "def weight_update(W1, b1, W2, b2, dW1, db1, dW2, db2, learning_rate=0.01):\n",
    "    W2 -= learning_rate * dW2\n",
    "    b2 -= learning_rate * db2\n",
    "    W1 -= learning_rate * dW1\n",
    "    b1 -= learning_rate * db1\n",
    "    \n",
    "    return W1, b1, W2, b2"
   ]
  },
  {
   "cell_type": "markdown",
   "id": "67970717",
   "metadata": {},
   "source": [
    "## 5. Training"
   ]
  },
  {
   "cell_type": "markdown",
   "id": "7dcc31ac",
   "metadata": {},
   "source": [
    "### a. Defining learning parameters"
   ]
  },
  {
   "cell_type": "code",
   "execution_count": 27,
   "id": "893baee7",
   "metadata": {},
   "outputs": [],
   "source": [
    "epochs = 500\n",
    "learning_rate = 0.001"
   ]
  },
  {
   "cell_type": "markdown",
   "id": "e77a2f88",
   "metadata": {},
   "source": [
    "### b. Defining model"
   ]
  },
  {
   "cell_type": "code",
   "execution_count": 28,
   "id": "14b23c7a",
   "metadata": {},
   "outputs": [],
   "source": [
    "def train(X, Y_true, input_size, hidden_size, output_size, learning_rate, epochs):\n",
    "    \n",
    "    # Initialize weights and bias\n",
    "    W1, b1, W2, b2 = initialize_weights(input_size, hidden_size, output_size)\n",
    "    acc_list , loss_list = [], []\n",
    "    \n",
    "    for i in range(epochs):\n",
    "        \n",
    "        # Forward pass\n",
    "        Z1, A1, Z2, A2 = forward_pass(W1, b1, W2, b2 , X)\n",
    "        Y_pred = A2\n",
    "\n",
    "        # Backward pass\n",
    "        dW1, db1, dW2, db2 = backward_pass(Y_pred, Y_true, X, Z1, A1, W2)\n",
    "\n",
    "        # Update weights and biases\n",
    "        W1, b1, W2, b2 = weight_update(W1, b1, W2, b2, dW1, db1, dW2, db2, learning_rate)\n",
    "        \n",
    "        ## collect loss, accuracy at every epoch\n",
    "        loss = cost_fucntion(Y_pred, Y_true)\n",
    "        acc = accuracy(Y_pred, Y_true)\n",
    "        loss_list.append(loss)\n",
    "        acc_list.append(acc)\n",
    "        \n",
    "        \n",
    "        # Print the loss every 15 epoch\n",
    "#         if i%15 == 0:\n",
    "#             print(\"--------- Epoch {} ---------\".format(i+1))\n",
    "#             print(\"Loss: {}\".format(loss))\n",
    "#             print(\"Accuracy: {}\".format(acc))\n",
    "        \n",
    "    return loss_list, acc_list"
   ]
  },
  {
   "cell_type": "code",
   "execution_count": 42,
   "id": "b4da5982",
   "metadata": {},
   "outputs": [],
   "source": [
    "loss_list, acc_list = train(X, Yo, input_size, hidden_size, output_size, learning_rate, epochs)"
   ]
  },
  {
   "cell_type": "markdown",
   "id": "dcee2a47",
   "metadata": {},
   "source": [
    "## 6. Visualizing"
   ]
  },
  {
   "cell_type": "code",
   "execution_count": 30,
   "id": "8979f855",
   "metadata": {},
   "outputs": [],
   "source": [
    "def plot_(history, type_):\n",
    "    plt.plot(history)\n",
    "    plt.title(f'{type_} vs num_iteration')\n",
    "    plt.ylabel(type_)\n",
    "    plt.xlabel('Number of Iterations')\n",
    "    plt.show()"
   ]
  },
  {
   "cell_type": "markdown",
   "id": "6299fb0e",
   "metadata": {},
   "source": [
    "### a. Cross-entropy Loss"
   ]
  },
  {
   "cell_type": "code",
   "execution_count": 43,
   "id": "f4a602e6",
   "metadata": {},
   "outputs": [
    {
     "data": {
      "image/png": "[encoded data removed]",
      "text/plain": [
       "<Figure size 432x288 with 1 Axes>"
      ]
     },
     "metadata": {
      "needs_background": "light"
     },
     "output_type": "display_data"
    }
   ],
   "source": [
    "plot_(loss_list, 'Loss')"
   ]
  },
  {
   "cell_type": "markdown",
   "id": "318868b0",
   "metadata": {},
   "source": [
    "### b. Acuracy"
   ]
  },
  {
   "cell_type": "code",
   "execution_count": 44,
   "id": "b7d8f5f9",
   "metadata": {},
   "outputs": [
    {
     "data": {
      "image/png": "[encoded data removed]",
      "text/plain": [
       "<Figure size 432x288 with 1 Axes>"
      ]
     },
     "metadata": {
      "needs_background": "light"
     },
     "output_type": "display_data"
    }
   ],
   "source": [
    "plot_(acc_list, 'Accuracy')"
   ]
  },
  {
   "cell_type": "code",
   "execution_count": null,
   "id": "8f7aa50a",
   "metadata": {},
   "outputs": [],
   "source": []
  }
 ],
 "metadata": {
  "kernelspec": {
   "display_name": "Python 3 (ipykernel)",
   "language": "python",
   "name": "python3"
  },
  "language_info": {
   "codemirror_mode": {
    "name": "ipython",
    "version": 3
   },
   "file_extension": ".py",
   "mimetype": "text/x-python",
   "name": "python",
   "nbconvert_exporter": "python",
   "pygments_lexer": "ipython3",
   "version": "3.9.12"
  }
 },
 "nbformat": 4,
 "nbformat_minor": 5
}
