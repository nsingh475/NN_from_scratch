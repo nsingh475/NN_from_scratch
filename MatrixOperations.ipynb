{
 "cells": [
  {
   "cell_type": "markdown",
   "id": "45bf9b16",
   "metadata": {},
   "source": [
    "## Create a n-D matrix will all Zeroes"
   ]
  },
  {
   "cell_type": "code",
   "execution_count": 109,
   "id": "fbe6960a",
   "metadata": {},
   "outputs": [],
   "source": [
    "def zeroes_matrix(shape, matrix=0): \n",
    "    while(shape!=[]):\n",
    "        matrix = [matrix for j in range(shape[-1])]\n",
    "        shape= shape[:-1]\n",
    "    return matrix"
   ]
  },
  {
   "cell_type": "code",
   "execution_count": 136,
   "id": "46eff354",
   "metadata": {},
   "outputs": [
    {
     "data": {
      "text/plain": [
       "[[[[0, 0]], [[0, 0]]]]"
      ]
     },
     "execution_count": 136,
     "metadata": {},
     "output_type": "execute_result"
    }
   ],
   "source": [
    "zeroes_matrix([1,2,1,2])"
   ]
  },
  {
   "cell_type": "markdown",
   "id": "0c7386e7",
   "metadata": {},
   "source": [
    "## Get shape of a matrix "
   ]
  },
  {
   "cell_type": "code",
   "execution_count": 113,
   "id": "f9948a8f",
   "metadata": {},
   "outputs": [],
   "source": [
    "def get_shape(A):\n",
    "    shape = []\n",
    "    while (type(a)==type([])):\n",
    "        shape.append(len(A))\n",
    "        A = A[0]\n",
    "    return shape"
   ]
  },
  {
   "cell_type": "code",
   "execution_count": 114,
   "id": "d63d8fb3",
   "metadata": {},
   "outputs": [
    {
     "name": "stdout",
     "output_type": "stream",
     "text": [
      "[1, 2, 1, 2]\n"
     ]
    }
   ],
   "source": [
    "A = [[[[0, 0]], [[0, 0]]]]\n",
    "print(get_shape(A))"
   ]
  },
  {
   "cell_type": "markdown",
   "id": "ecfd9aa2",
   "metadata": {},
   "source": [
    "## Create a copy of a n-d matrix"
   ]
  },
  {
   "cell_type": "code",
   "execution_count": 141,
   "id": "af2675f3",
   "metadata": {},
   "outputs": [
    {
     "name": "stdout",
     "output_type": "stream",
     "text": [
      "[3, 2, 1]\n"
     ]
    }
   ],
   "source": [
    "a = [1,2,3]\n",
    "b = a\n",
    "c = a[:]\n",
    "a [0] = 100"
   ]
  },
  {
   "cell_type": "code",
   "execution_count": 87,
   "id": "27fa9b02",
   "metadata": {},
   "outputs": [],
   "source": [
    "def copy_matrix(matrix):\n",
    "    shape = get_shape(matrix)\n",
    "    copy = []\n",
    "    if len(shape) == 1: ## matrix is 1d i.e. row\n",
    "        for ele in matrix:\n",
    "            copy.append(ele)\n",
    "        return copy\n",
    "    else:\n",
    "        for ele in matrix:\n",
    "            res = copy_matrix(ele)\n",
    "            copy.append(res)\n",
    "    return copy        "
   ]
  },
  {
   "cell_type": "code",
   "execution_count": 97,
   "id": "70cdba8c",
   "metadata": {},
   "outputs": [
    {
     "name": "stdout",
     "output_type": "stream",
     "text": [
      "[[[[[1, 2], [3, 4]], [[1, 2], [3, 11]]]]]\n",
      "[[[[[100, 2], [3, 4]], [[1, 2], [3, 11]]]]]\n",
      "[[[[[1, 2], [3, 4]], [[1, 2], [3, 11]]]]]\n"
     ]
    }
   ],
   "source": [
    "A = [[[[[1, 2], [3, 4]], [[1, 2], [3, 11]]]]]\n",
    "result = copy_matrix(A)\n",
    "print(result)\n",
    "A[0][0][0][0][0] = 100\n",
    "print(A)\n",
    "print(result)"
   ]
  },
  {
   "cell_type": "markdown",
   "id": "9346e3b0",
   "metadata": {},
   "source": [
    "## Print a matrix"
   ]
  },
  {
   "cell_type": "code",
   "execution_count": 146,
   "id": "149f9485",
   "metadata": {},
   "outputs": [],
   "source": [
    "def print_matrix(matrix):\n",
    "    for i, row in enumerate(matrix):\n",
    "        if i==0:\n",
    "            print('[', end='')\n",
    "        if i > 0:\n",
    "            print(' ', end='')\n",
    "        print(row, end='')\n",
    "        if i<len(matrix)-1:\n",
    "            print(',')\n",
    "        if i==len(matrix)-1:\n",
    "            print(']')"
   ]
  },
  {
   "cell_type": "code",
   "execution_count": 147,
   "id": "6247490f",
   "metadata": {},
   "outputs": [
    {
     "name": "stdout",
     "output_type": "stream",
     "text": [
      "[[1, 2],\n",
      " [3, 4],\n",
      " [5, 6],\n",
      " [7, 8]]\n"
     ]
    }
   ],
   "source": [
    "matrix = [[1, 2], [3, 4], [5, 6], [7, 8]]\n",
    "print_matrix(matrix)"
   ]
  },
  {
   "cell_type": "code",
   "execution_count": 148,
   "id": "e5a5c164",
   "metadata": {},
   "outputs": [
    {
     "name": "stdout",
     "output_type": "stream",
     "text": [
      "[[[1, 2], [3, 4]],\n",
      " [[5, 6], [7, 8]]]\n"
     ]
    }
   ],
   "source": [
    "matrix = [[[1, 2], [3, 4]], [[5, 6], [7, 8]]]\n",
    "print_matrix(matrix)"
   ]
  },
  {
   "cell_type": "markdown",
   "id": "9330257e",
   "metadata": {},
   "source": [
    "## Add two matrix"
   ]
  },
  {
   "cell_type": "code",
   "execution_count": 225,
   "id": "6339aec5",
   "metadata": {},
   "outputs": [],
   "source": [
    "def add_A_B(A, B):\n",
    "    row_a, col_a = get_shape(A)\n",
    "    row_b, col_b = get_shape(B)\n",
    "    \n",
    "    if (row_a != row_b or  col_a != col_b):\n",
    "        raise Exception('Rows*Columns does not match')\n",
    "        \n",
    "    addition=[]\n",
    "    for i in range(len(A)):\n",
    "        addition.append([A[i][j]+B[i][j] for j in range(len(A[i]))])\n",
    "    return addition"
   ]
  },
  {
   "cell_type": "code",
   "execution_count": 226,
   "id": "9e526a3b",
   "metadata": {},
   "outputs": [
    {
     "name": "stdout",
     "output_type": "stream",
     "text": [
      "[[9, 5], [9, 13]]\n"
     ]
    }
   ],
   "source": [
    "A = [[1, 3], [5, 7]]\n",
    "B = [[8, 2], [4, 6]]\n",
    "ans = add_A_B(A, B)\n",
    "print (ans)"
   ]
  },
  {
   "cell_type": "markdown",
   "id": "06420ed6",
   "metadata": {},
   "source": [
    "## Dot product "
   ]
  },
  {
   "cell_type": "code",
   "execution_count": 79,
   "id": "28ca221d",
   "metadata": {},
   "outputs": [],
   "source": [
    "def dot_product(A, B):\n",
    "    row_a, col_a = get_shape(A)\n",
    "    row_b, col_b = get_shape(B)\n",
    "    \n",
    "    if (row_a != row_b or  col_a != col_b):\n",
    "        raise Exception('Rows*Columns does not match')\n",
    "\n",
    "    dot_prod = 0    \n",
    "    for i in range(len(A)):\n",
    "        for j in range(len(A[0])):\n",
    "            dot += A[i][j]*B[i][j]\n",
    "    return dot"
   ]
  },
  {
   "cell_type": "code",
   "execution_count": 80,
   "id": "1e53b9f1",
   "metadata": {},
   "outputs": [
    {
     "name": "stdout",
     "output_type": "stream",
     "text": [
      "56\n"
     ]
    }
   ],
   "source": [
    "A = [[1, 4, 3], [2, 1, 5]]\n",
    "B = [[1, 4, 3], [2, 1, 5]]\n",
    "ans = dot_product(A, B)\n",
    "print(ans)"
   ]
  },
  {
   "cell_type": "markdown",
   "id": "2662ce7f",
   "metadata": {},
   "source": [
    "## Matrix product"
   ]
  },
  {
   "cell_type": "code",
   "execution_count": 121,
   "id": "45e02f9d",
   "metadata": {},
   "outputs": [],
   "source": [
    "import numpy as np"
   ]
  },
  {
   "cell_type": "code",
   "execution_count": 122,
   "id": "8ac794af",
   "metadata": {},
   "outputs": [],
   "source": [
    "def matrix_product(A, B):\n",
    "    row_a, col_a = get_shape(A)\n",
    "    row_b, col_b = get_shape(B)\n",
    "    \n",
    "    if (col_a != row_b):\n",
    "        raise Exception('Number of rows in matrix A does not match number of columns in matrix B')\n",
    "        \n",
    "    matrix_prod = np.zeros((row_a, col_b))\n",
    "    \n",
    "    for i in range(len(A)):\n",
    "        for j in range(len(B[0])): \n",
    "            for k in range(len(B)):\n",
    "                matrix_prod[i][j] += A[i][k]*B[k][j]\n",
    "    return matrix_prod"
   ]
  },
  {
   "cell_type": "code",
   "execution_count": 123,
   "id": "93e403f0",
   "metadata": {},
   "outputs": [
    {
     "name": "stdout",
     "output_type": "stream",
     "text": [
      "[[114. 160.  60.  27.],\n",
      "[74. 97. 73. 14.],\n",
      "[119. 157. 112.  23.]]\n"
     ]
    }
   ],
   "source": [
    "A = [[12, 7, 3],\n",
    "    [4, 5, 6],\n",
    "    [7, 8, 9]]\n",
    "  \n",
    "B = [[5, 8, 1, 2],\n",
    "    [6, 7, 3, 0],\n",
    "    [4, 5, 9, 1]]\n",
    "\n",
    "matrix_prod = matrix_product(A, B)\n",
    "print_matrix(matrix_prod)"
   ]
  },
  {
   "cell_type": "markdown",
   "id": "494d316a",
   "metadata": {},
   "source": [
    "## Transposition"
   ]
  },
  {
   "cell_type": "code",
   "execution_count": 126,
   "id": "3aea9cf9",
   "metadata": {},
   "outputs": [],
   "source": [
    "def transpose_matrix(matrix):\n",
    "    num_rows, num_cols = get_shape(matrix)\n",
    "\n",
    "    transpose = []\n",
    "    for i in range(len(matrix[0])): # num col\n",
    "        val = [matrix[j][i] for j in range(len(matrix))] # num rows\n",
    "        transpose.append(val)\n",
    "               \n",
    "    return transpose"
   ]
  },
  {
   "cell_type": "code",
   "execution_count": 128,
   "id": "c7797293",
   "metadata": {},
   "outputs": [
    {
     "name": "stdout",
     "output_type": "stream",
     "text": [
      "[[1, 2],\n",
      "[4, 1],\n",
      "[3, 5]]\n"
     ]
    }
   ],
   "source": [
    "A = [[1, 4, 3], [2, 1, 5]]\n",
    "res = transpose_matrix(A)\n",
    "print_matrix(res)"
   ]
  },
  {
   "cell_type": "code",
   "execution_count": 131,
   "id": "baf47b98",
   "metadata": {},
   "outputs": [],
   "source": [
    "def flatten(matrix):\n",
    "    num_rows, num_cols = get_shape(matrix)\n",
    "    flatten = []\n",
    "    for i in range(num_rows):\n",
    "        flatten+=matrix[i]\n",
    "    return flatten"
   ]
  },
  {
   "cell_type": "code",
   "execution_count": 133,
   "id": "b514c565",
   "metadata": {},
   "outputs": [
    {
     "name": "stdout",
     "output_type": "stream",
     "text": [
      "[6, 4, 4, 8, 3, 5]\n"
     ]
    }
   ],
   "source": [
    "A = M = [[6, 4], [4, 8], [3, 5]]\n",
    "res = flatten(A)\n",
    "print(res)"
   ]
  },
  {
   "cell_type": "markdown",
   "id": "b78254d3",
   "metadata": {},
   "source": [
    "## Matrix concatenation"
   ]
  },
  {
   "cell_type": "code",
   "execution_count": null,
   "id": "baba6495",
   "metadata": {},
   "outputs": [],
   "source": [
    "def concatenate(A, B, type_):\n",
    "    row_a, col_a = get_shape(A)\n",
    "    row_b, col_b = get_shape(B)\n",
    "    \n",
    "    concat_matrix = []\n",
    "    if type_.lower()=='Horizontal':\n",
    "        if (row_a!=row_b):\n",
    "            raise Exception('Number of rows in matrix A does not match number of rows in matrix B')\n",
    "        \n",
    "        for row in row_a:\n",
    "            concat_matrix.append(A[row]+B[row])\n",
    "    else:\n",
    "        A_T = transpose_matrix(A)\n",
    "        B_T = transpose_matrix(B)\n",
    "    "
   ]
  },
  {
   "cell_type": "code",
   "execution_count": null,
   "id": "9fa1353f",
   "metadata": {},
   "outputs": [],
   "source": [
    "# 16.3"
   ]
  }
 ],
 "metadata": {
  "kernelspec": {
   "display_name": "Python 3 (ipykernel)",
   "language": "python",
   "name": "python3"
  },
  "language_info": {
   "codemirror_mode": {
    "name": "ipython",
    "version": 3
   },
   "file_extension": ".py",
   "mimetype": "text/x-python",
   "name": "python",
   "nbconvert_exporter": "python",
   "pygments_lexer": "ipython3",
   "version": "3.9.12"
  }
 },
 "nbformat": 4,
 "nbformat_minor": 5
}
