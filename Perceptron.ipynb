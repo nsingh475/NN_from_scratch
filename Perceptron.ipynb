{
 "cells": [
  {
   "cell_type": "code",
   "execution_count": 1,
   "id": "229444ed",
   "metadata": {},
   "outputs": [],
   "source": [
    "import numpy as np\n",
    "import pandas as pd"
   ]
  },
  {
   "cell_type": "code",
   "execution_count": 2,
   "id": "901a8d5c",
   "metadata": {},
   "outputs": [],
   "source": [
    "file_path = './Dataset/'\n",
    "file_name = 'perceptron_training_data.tsv'"
   ]
  },
  {
   "cell_type": "code",
   "execution_count": 3,
   "id": "92bff223",
   "metadata": {},
   "outputs": [
    {
     "data": {
      "text/html": [
       "<div>\n",
       "<style scoped>\n",
       "    .dataframe tbody tr th:only-of-type {\n",
       "        vertical-align: middle;\n",
       "    }\n",
       "\n",
       "    .dataframe tbody tr th {\n",
       "        vertical-align: top;\n",
       "    }\n",
       "\n",
       "    .dataframe thead th {\n",
       "        text-align: right;\n",
       "    }\n",
       "</style>\n",
       "<table border=\"1\" class=\"dataframe\">\n",
       "  <thead>\n",
       "    <tr style=\"text-align: right;\">\n",
       "      <th></th>\n",
       "      <th>feature_1</th>\n",
       "      <th>feature_2</th>\n",
       "      <th>output</th>\n",
       "    </tr>\n",
       "  </thead>\n",
       "  <tbody>\n",
       "    <tr>\n",
       "      <th>0</th>\n",
       "      <td>-3.7346</td>\n",
       "      <td>0.0601</td>\n",
       "      <td>1</td>\n",
       "    </tr>\n",
       "    <tr>\n",
       "      <th>1</th>\n",
       "      <td>-2.8868</td>\n",
       "      <td>0.3730</td>\n",
       "      <td>1</td>\n",
       "    </tr>\n",
       "  </tbody>\n",
       "</table>\n",
       "</div>"
      ],
      "text/plain": [
       "   feature_1  feature_2  output\n",
       "0    -3.7346     0.0601       1\n",
       "1    -2.8868     0.3730       1"
      ]
     },
     "execution_count": 3,
     "metadata": {},
     "output_type": "execute_result"
    }
   ],
   "source": [
    "# pandas\n",
    "dataframe = pd.read_table(file_path+file_name)\n",
    "dataframe.head(2)"
   ]
  },
  {
   "cell_type": "code",
   "execution_count": 4,
   "id": "e68bbcea",
   "metadata": {},
   "outputs": [
    {
     "data": {
      "text/plain": [
       "(100, 3)"
      ]
     },
     "execution_count": 4,
     "metadata": {},
     "output_type": "execute_result"
    }
   ],
   "source": [
    "dataframe.shape"
   ]
  },
  {
   "cell_type": "code",
   "execution_count": 5,
   "id": "a3f5d71a",
   "metadata": {},
   "outputs": [
    {
     "name": "stdout",
     "output_type": "stream",
     "text": [
      "(100, 3)\n"
     ]
    }
   ],
   "source": [
    "# numpy\n",
    "data = data = np.genfromtxt(fname=file_path+file_name, delimiter=\"\\t\", skip_header=1, filling_values=1)\n",
    "print(data.shape)"
   ]
  },
  {
   "cell_type": "code",
   "execution_count": 6,
   "id": "00bc06de",
   "metadata": {},
   "outputs": [
    {
     "data": {
      "text/plain": [
       "array([[-3.7346,  0.0601,  1.    ],\n",
       "       [-2.8868,  0.373 ,  1.    ]])"
      ]
     },
     "execution_count": 6,
     "metadata": {},
     "output_type": "execute_result"
    }
   ],
   "source": [
    "data[:2]"
   ]
  },
  {
   "cell_type": "code",
   "execution_count": 7,
   "id": "3e2bdfd8",
   "metadata": {},
   "outputs": [],
   "source": [
    "## parameters \n",
    "learning_rate = 0.05"
   ]
  },
  {
   "cell_type": "code",
   "execution_count": 8,
   "id": "faf39275",
   "metadata": {},
   "outputs": [
    {
     "name": "stdout",
     "output_type": "stream",
     "text": [
      "[[-3.7346  0.0601]\n",
      " [-2.8868  0.373 ]]\n"
     ]
    }
   ],
   "source": [
    "X = data[:, :-1]\n",
    "print(X[:2])"
   ]
  },
  {
   "cell_type": "code",
   "execution_count": 9,
   "id": "449efb80",
   "metadata": {},
   "outputs": [
    {
     "name": "stdout",
     "output_type": "stream",
     "text": [
      "[1. 1.]\n"
     ]
    }
   ],
   "source": [
    "Y = data[:, -1]\n",
    "print(Y[:2])"
   ]
  },
  {
   "cell_type": "code",
   "execution_count": 12,
   "id": "d8af4b8b",
   "metadata": {},
   "outputs": [],
   "source": [
    "def step_function(z,theta=0.5):\n",
    "    step = z+theta\n",
    "    if step > 0:\n",
    "        return 1\n",
    "    else:\n",
    "        return 0"
   ]
  },
  {
   "cell_type": "code",
   "execution_count": 13,
   "id": "2ccd8111",
   "metadata": {},
   "outputs": [],
   "source": [
    "num_epochs = 50"
   ]
  },
  {
   "cell_type": "code",
   "execution_count": 18,
   "id": "0948826a",
   "metadata": {},
   "outputs": [
    {
     "name": "stdout",
     "output_type": "stream",
     "text": [
      "[0.67237766 0.26031953]\n",
      "[0.09972595]\n"
     ]
    }
   ],
   "source": [
    "## weights\n",
    "W = np.random.rand(2)\n",
    "print(W)\n",
    "threshold = np.random.rand(1)\n",
    "print(threshold)"
   ]
  },
  {
   "cell_type": "code",
   "execution_count": 19,
   "id": "0f24d54f",
   "metadata": {},
   "outputs": [
    {
     "name": "stdout",
     "output_type": "stream",
     "text": [
      "Initialized weights and threshold:  [0.67237766 0.26031953] [0.09972595]\n",
      "-------------- Working on epoch 1 --------------\n",
      "Weights and thrshold (array([-0.17749734, -0.30334047]), array([0.14972595]))\n",
      "Correctly classified instances:  93\n",
      "-------------- Working on epoch 2 --------------\n",
      "Weights and thrshold (array([-0.17749734, -0.30334047]), array([0.14972595]))\n",
      "Correctly classified instances:  100\n",
      "Correctly classified all examples after epoch 2\n"
     ]
    }
   ],
   "source": [
    "print('Initialized weights and threshold: ', W, threshold)\n",
    "for epoch in range(num_epochs):\n",
    "    print(f'-------------- Working on epoch {epoch+1} --------------')\n",
    "    correct_classification = 0\n",
    "    for i in range(data.shape[0]):\n",
    "        x = X[i]\n",
    "        y = Y[i]\n",
    "        z = np.dot(x,W)\n",
    "        y_hat = step_function(z,threshold)\n",
    "        \n",
    "        if y_hat == y:\n",
    "            correct_classification+=1\n",
    "        else:\n",
    "            if y_hat == 0:\n",
    "                W = W + learning_rate*x\n",
    "                threshold = threshold + learning_rate \n",
    "            elif y_hat == 1:\n",
    "                W = W - learning_rate*x \n",
    "                threshold = threshold - learning_rate \n",
    "    print(f'Weights and thrshold', (W, threshold))\n",
    "    print(f'Correctly classified instances: ', correct_classification)\n",
    "    \n",
    "    if correct_classification == data.shape[0]:\n",
    "        print(f'Correctly classified all examples after epoch {epoch+1}')\n",
    "        break"
   ]
  },
  {
   "cell_type": "code",
   "execution_count": 20,
   "id": "ff47043b",
   "metadata": {},
   "outputs": [
    {
     "name": "stdout",
     "output_type": "stream",
     "text": [
      "[-0.17749734 -0.30334047] [0.14972595]\n"
     ]
    }
   ],
   "source": [
    "print(W, threshold)"
   ]
  },
  {
   "cell_type": "markdown",
   "id": "f018d74d",
   "metadata": {},
   "source": [
    "## Visualization"
   ]
  },
  {
   "cell_type": "code",
   "execution_count": null,
   "id": "72dd2e0d",
   "metadata": {},
   "outputs": [],
   "source": [
    " "
   ]
  },
  {
   "cell_type": "code",
   "execution_count": null,
   "id": "248159bd",
   "metadata": {},
   "outputs": [],
   "source": []
  },
  {
   "cell_type": "code",
   "execution_count": null,
   "id": "82a4b96d",
   "metadata": {},
   "outputs": [],
   "source": []
  }
 ],
 "metadata": {
  "kernelspec": {
   "display_name": "Python 3 (ipykernel)",
   "language": "python",
   "name": "python3"
  },
  "language_info": {
   "codemirror_mode": {
    "name": "ipython",
    "version": 3
   },
   "file_extension": ".py",
   "mimetype": "text/x-python",
   "name": "python",
   "nbconvert_exporter": "python",
   "pygments_lexer": "ipython3",
   "version": "3.9.12"
  }
 },
 "nbformat": 4,
 "nbformat_minor": 5
}
